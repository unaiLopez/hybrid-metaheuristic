{
 "cells": [
  {
   "cell_type": "code",
   "execution_count": 3,
   "id": "1ac7e563",
   "metadata": {},
   "outputs": [],
   "source": [
    "optimizerA_scores =  [97.6737164084399, 85.5802101536994, 86.78566042191392, 57.24531277060504, 93.23413748953146, 65.04801956358608, 64.68660934254436, 75.63977712888286, 86.84510728525052, 77.75761737092353, 68.01920305209177, 68.85511281015934, 127.35723637309977, 97.65643789977429, 73.92689728757813, 77.90379651456627, 95.64702938772979, 90.48623953659717, 114.6335569001499, 85.08178675662666]\n",
    "optimizerB_scores = [65.74954327637101, 97.00888988882565, 99.63377896350724, 106.63690614373135, 110.57130705742762, 113.56097506941606, 66.67362948153686, 121.52225882936145, 77.70610393675108, 89.80065040516635, 125.68436975054439, 57.849768860234605, 84.93593763487152, 84.80358726960884, 76.75314039728372, 94.64769221576285, 102.60919802092357, 127.49309498147068, 71.76515165762112, 80.81359940956361]\n",
    "optimizer_adaptative_bounds_scores = [1.119380783620727e-06, 1.119380783620727e-06, 1.119380783620727e-06, 1.0794028639793396e-06, 1.119380783620727e-06, 1.0794029208227585e-06, 1.119380783620727e-06, 1.0794028639793396e-06, 1.1593586464186956e-06, 9.994608944907668e-07, 1.0794028639793396e-06, 1.0794028639793396e-06, 1.03942505802479e-06, 1.1593586464186956e-06, 1.0794029208227585e-06, 1.039425399085303e-06, 1.0794028639793396e-06, 9.9944975318067e-07, 1.0794029208227585e-06, 1.119380783620727e-06]"
   ]
  },
  {
   "cell_type": "code",
   "execution_count": 4,
   "id": "bb7f253c",
   "metadata": {},
   "outputs": [
    {
     "name": "stdout",
     "output_type": "stream",
     "text": [
      "Wilcoxon test statistic: 0.0000, p-value: 0.0000\n",
      "✅ Optimizer A is significantly better than B (p < 0.05)\n"
     ]
    }
   ],
   "source": [
    "from scipy.stats import wilcoxon\n",
    "\n",
    "stat, p = wilcoxon(optimizerA_scores, optimizer_adaptative_bounds_scores)\n",
    "\n",
    "print(f\"Wilcoxon test statistic: {stat:.4f}, p-value: {p:.4f}\")\n",
    "if p < 0.05:\n",
    "    print(\"✅ Optimizer A is significantly better than B (p < 0.05)\")\n",
    "else:\n",
    "    print(\"❌ No significant difference between A and B\")"
   ]
  },
  {
   "cell_type": "code",
   "execution_count": null,
   "id": "836ad07f",
   "metadata": {},
   "outputs": [],
   "source": []
  }
 ],
 "metadata": {
  "kernelspec": {
   "display_name": "metaheuristics",
   "language": "python",
   "name": "python3"
  },
  "language_info": {
   "codemirror_mode": {
    "name": "ipython",
    "version": 3
   },
   "file_extension": ".py",
   "mimetype": "text/x-python",
   "name": "python",
   "nbconvert_exporter": "python",
   "pygments_lexer": "ipython3",
   "version": "3.12.11"
  }
 },
 "nbformat": 4,
 "nbformat_minor": 5
}
