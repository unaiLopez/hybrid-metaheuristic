{
 "cells": [
  {
   "cell_type": "code",
   "execution_count": 2,
   "id": "80fda411",
   "metadata": {},
   "outputs": [],
   "source": [
    "import sys\n",
    "sys.path.append(\"..\")\n",
    "\n",
    "import numpy as np\n",
    "import matplotlib.pyplot as plt\n",
    "from src.equations import *"
   ]
  },
  {
   "cell_type": "code",
   "execution_count": 3,
   "id": "6581bb4f",
   "metadata": {},
   "outputs": [],
   "source": [
    "def plot_equation_3d(samples: np.array, fitnesses: np.array, s: int = 5, alpha: float = 0.6):\n",
    "    fig = plt.figure(figsize=(8, 6))\n",
    "    ax = fig.add_subplot(111, projection='3d')\n",
    "    sc = ax.scatter(samples[:, 0], samples[:, 1], fitnesses, c=fitnesses, cmap='viridis', s=s, alpha=alpha)\n",
    "\n",
    "    ax.set_xlabel('x₀')\n",
    "    ax.set_ylabel('x₁')\n",
    "    ax.set_zlabel('f(x)')\n",
    "    fig.colorbar(sc, ax=ax, label='f(x) latin hypercube')\n",
    "\n",
    "    plt.title(f'Best sample fitness: {np.min(fitnesses)}')\n",
    "    plt.tight_layout()\n",
    "    plt.show()"
   ]
  },
  {
   "cell_type": "code",
   "execution_count": null,
   "id": "361fae9e",
   "metadata": {},
   "outputs": [
    {
     "name": "stdout",
     "output_type": "stream",
     "text": [
      "1297.2170892883591\n",
      "✅ Convergido en 6 iteraciones (||grad||=7.39e-11).\n",
      "Mínimo aproximado en: [-420.96874444  420.96874444   65.54785451]\n",
      "Valor de Schwefel: 1193.3137180484603\n",
      "Última norma del gradiente: 7.389644451905042e-11\n"
     ]
    }
   ],
   "source": [
    "import numpy as np\n",
    "\n",
    "def schwefel(x):\n",
    "    \"\"\"\n",
    "    Función de Schwefel vectorizada.\n",
    "    \n",
    "    Parámetros:\n",
    "    -----------\n",
    "    x : array-like\n",
    "        Punto(s) donde evaluar la función\n",
    "    \n",
    "    Retorna:\n",
    "    --------\n",
    "    float o array\n",
    "        Valor(es) de la función Schwefel\n",
    "        \n",
    "    Mínimo global: f(420.9687) ≈ 0\n",
    "    \"\"\"\n",
    "    x = np.asarray(x)\n",
    "    if x.ndim == 1:\n",
    "        x = x.reshape(1, -1)\n",
    "    n = x.shape[1]\n",
    "    term = x * np.sin(np.sqrt(np.abs(x)))\n",
    "    total = np.sum(term, axis=1)\n",
    "    result = 418.9829 * n - total\n",
    "    return result[0] if result.shape[0] == 1 else result\n",
    "\n",
    "\n",
    "def gradiente_numerico(f, x, h=1e-6): # ∇f\n",
    "    x = np.asarray(x, dtype=float)\n",
    "    grad = np.zeros_like(x)\n",
    "    for i in range(len(x)):\n",
    "        xp, xm = x.copy(), x.copy()\n",
    "        xp[i] += h; xm[i] -= h\n",
    "        grad[i] = (f(xp) - f(xm)) / (2*h)\n",
    "    return grad\n",
    "\n",
    "def hessiana_numerica(f, x, h=1e-4): # ∇²f\n",
    "    x = np.asarray(x, dtype=float)\n",
    "    n = len(x)\n",
    "    H = np.zeros((n, n))\n",
    "    for i in range(n):\n",
    "        for j in range(i, n):\n",
    "            x_pp = x.copy(); x_pm = x.copy()\n",
    "            x_mp = x.copy(); x_mm = x.copy()\n",
    "            x_pp[i] += h; x_pp[j] += h\n",
    "            x_pm[i] += h; x_pm[j] -= h\n",
    "            x_mp[i] -= h; x_mp[j] += h\n",
    "            x_mm[i] -= h; x_mm[j] -= h\n",
    "            Hij = (f(x_pp) - f(x_pm) - f(x_mp) + f(x_mm)) / (4*h*h)\n",
    "            H[i, j] = Hij\n",
    "            H[j, i] = Hij  # uso simetría\n",
    "    return H\n",
    "\n",
    "def newton_minimizar(f, x0, tol=1e-8, max_iter=50, damping=1e-6):\n",
    "    x = np.asarray(x0, dtype=float)\n",
    "    if x.ndim != 1:\n",
    "        raise ValueError(\"x0 debe ser un array 1D\")\n",
    "    grad_norms = []\n",
    "    \n",
    "    for k in range(max_iter):\n",
    "        g = gradiente_numerico(f, x)\n",
    "        norm_g = np.linalg.norm(g)\n",
    "        grad_norms.append(norm_g)\n",
    "        if norm_g < tol:\n",
    "            print(f\"✅ Convergido en {k} iteraciones (||grad||={norm_g:.2e}).\")\n",
    "            return x, grad_norms\n",
    "        \n",
    "        H = hessiana_numerica(f, x)\n",
    "        # Regularizar si está cerca de singular\n",
    "        H += np.eye(len(x)) * damping\n",
    "        \n",
    "        # Comprobar simetría\n",
    "        if not np.allclose(H, H.T, atol=1e-8):\n",
    "            raise RuntimeError(f\"Hessiana no simétrica en iteración {k}\")\n",
    "        \n",
    "        try:\n",
    "            delta = np.linalg.solve(H, -g)\n",
    "        except np.linalg.LinAlgError:\n",
    "            raise RuntimeError(f\"Hessiana singular en iteración {k}\")\n",
    "        \n",
    "        x = x + delta\n",
    "    \n",
    "    print(f\"No convergió en {max_iter} iteraciones (||grad||={norm_g:.2e}).\")\n",
    "    return x, grad_norms\n",
    "    #raise RuntimeError(f\"No convergió en {max_iter} iteraciones (||grad||={norm_g:.2e}).\")\n",
    "\n",
    "# --- Ejemplo de uso ---\n",
    "if __name__ == \"__main__\":\n",
    "    x0 = np.array([-410.0, 400.0, 39.0])\n",
    "    print(schwefel(x0))\n",
    "    x_min, grad_hist = newton_minimizar(schwefel, x0, max_iter=2000)\n",
    "    print(\"Mínimo aproximado en:\", x_min)\n",
    "    print(\"Valor de Schwefel:\", schwefel(x_min))\n",
    "    print(\"Última norma del gradiente:\", grad_hist[-1])\n"
   ]
  },
  {
   "cell_type": "code",
   "execution_count": 68,
   "id": "77c98b35",
   "metadata": {},
   "outputs": [
    {
     "data": {
      "text/plain": [
       "[<matplotlib.lines.Line2D at 0x7e722c005100>]"
      ]
     },
     "execution_count": 68,
     "metadata": {},
     "output_type": "execute_result"
    },
    {
     "data": {
      "image/png": "[encoded data removed]",
      "text/plain": [
       "<Figure size 640x480 with 1 Axes>"
      ]
     },
     "metadata": {},
     "output_type": "display_data"
    }
   ],
   "source": [
    "plt.plot(grad_hist)"
   ]
  },
  {
   "cell_type": "code",
   "execution_count": null,
   "id": "8b28ecb0",
   "metadata": {},
   "outputs": [],
   "source": []
  }
 ],
 "metadata": {
  "kernelspec": {
   "display_name": "metaheuristics",
   "language": "python",
   "name": "python3"
  },
  "language_info": {
   "codemirror_mode": {
    "name": "ipython",
    "version": 3
   },
   "file_extension": ".py",
   "mimetype": "text/x-python",
   "name": "python",
   "nbconvert_exporter": "python",
   "pygments_lexer": "ipython3",
   "version": "3.12.11"
  }
 },
 "nbformat": 4,
 "nbformat_minor": 5
}
